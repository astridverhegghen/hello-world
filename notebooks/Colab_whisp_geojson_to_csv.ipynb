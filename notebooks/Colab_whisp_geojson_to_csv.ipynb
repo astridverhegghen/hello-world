{
  "cells": [
    {
      "cell_type": "markdown",
      "id": "ed6a7f46",
      "metadata": {
        "id": "ed6a7f46"
      },
      "source": [
        "[![Open In Colab](https://colab.research.google.com/assets/colab-badge.svg)](https://colab.research.google.com/github/forestdatapartnership/whisp/blob/main/notebooks/Colab_whisp_geojson_to_csv.ipynb)"
      ]
    },
    {
      "cell_type": "markdown",
      "id": "250b53cc",
      "metadata": {
        "id": "250b53cc"
      },
      "source": [
        "# Whisp a geojson\n",
        "\n",
        "Python Notebook pathway for [Whisp](https://openforis.org/solutions/whisp/) running in the cloud via [Google Colab](https://colab.google/).\n",
        "\n",
        "**To open:**\n",
        "click badge at top.\n",
        "\n",
        "**To run:** click play buttons (or press shift + enter)\n",
        "\n",
        "**Requirements:** Google Earth Engine (GEE) account and registered cloud project.\n"
      ]
    },
    {
      "cell_type": "markdown",
      "id": "ae3d8135",
      "metadata": {
        "id": "ae3d8135"
      },
      "source": [
        "\n",
        "- **Aim:** support compliance with zero deforestation regulations\n",
        "- **Input**: geojson file of plot boundaries or points\n",
        "- **Output**: CSV table and geojson containing statistics and risk indicators"
      ]
    },
    {
      "cell_type": "markdown",
      "id": "punK2a7_zXmr",
      "metadata": {
        "id": "punK2a7_zXmr"
      },
      "source": [
        "### Setup Google Earth Engine"
      ]
    },
    {
      "cell_type": "code",
      "execution_count": 3,
      "id": "zp_C0UxuzSIW",
      "metadata": {
        "id": "zp_C0UxuzSIW"
      },
      "outputs": [],
      "source": [
        "import ee\n",
        "\n",
        "# Google Earth Engine project name\n",
        "gee_project_name = \"ee-astridverhegghen\" # change to your project name. If unsure see here: https://developers.google.com/earth-engine/cloud/assets)\n",
        "\n",
        "# NB opens browser to allow access\n",
        "ee.Authenticate()\n",
        "\n",
        "# initialize with chosen project\n",
        "ee.Initialize(project=gee_project_name)"
      ]
    },
    {
      "cell_type": "markdown",
      "id": "0ed47318",
      "metadata": {
        "id": "0ed47318"
      },
      "source": [
        "### Install and import packages"
      ]
    },
    {
      "cell_type": "code",
      "execution_count": null,
      "id": "DnFe8Scf3or5",
      "metadata": {
        "colab": {
          "base_uri": "https://localhost:8080/"
        },
        "id": "DnFe8Scf3or5",
        "outputId": "85e39c03-f788-49da-9198-a7f2275e0217"
      },
      "outputs": [
        {
          "output_type": "stream",
          "name": "stdout",
          "text": [
            "Collecting openforis-whisp\n",
            "  Downloading openforis_whisp-2.0.0a5-py3-none-any.whl.metadata (16 kB)\n",
            "Collecting country_converter<2.0.0,>=0.7 (from openforis-whisp)\n",
            "  Downloading country_converter-1.3.1-py3-none-any.whl.metadata (25 kB)\n",
            "Requirement already satisfied: earthengine-api in /usr/local/lib/python3.11/dist-packages (from openforis-whisp) (1.5.24)\n",
            "Collecting geojson<3.0.0,>=2.5.0 (from openforis-whisp)\n",
            "  Downloading geojson-2.5.0-py2.py3-none-any.whl.metadata (15 kB)\n",
            "Requirement already satisfied: geopandas<2.0.0,>=1.0.1 in /usr/local/lib/python3.11/dist-packages (from openforis-whisp) (1.1.1)\n",
            "Requirement already satisfied: ipykernel<7.0.0,>=6.17.1 in /usr/local/lib/python3.11/dist-packages (from openforis-whisp) (6.17.1)\n",
            "Requirement already satisfied: numpy<3.0.0,>=1.21.0 in /usr/local/lib/python3.11/dist-packages (from openforis-whisp) (2.0.2)\n",
            "Requirement already satisfied: pandas<3.0.0,>=1.3.0 in /usr/local/lib/python3.11/dist-packages (from openforis-whisp) (2.2.2)\n",
            "Collecting pandera<1.0.0,>=0.22.1 (from pandera[io]<1.0.0,>=0.22.1->openforis-whisp)\n",
            "  Downloading pandera-0.25.0-py3-none-any.whl.metadata (10 kB)\n",
            "Requirement already satisfied: pydantic-core<3.0.0,>=2.14.0 in /usr/local/lib/python3.11/dist-packages (from openforis-whisp) (2.33.2)\n",
            "Collecting python-dotenv<2.0.0,>=1.0.1 (from openforis-whisp)\n",
            "  Downloading python_dotenv-1.1.1-py3-none-any.whl.metadata (24 kB)\n",
            "Requirement already satisfied: rsa<5.0.0,>=4.2 in /usr/local/lib/python3.11/dist-packages (from openforis-whisp) (4.9.1)\n",
            "Requirement already satisfied: shapely<3.0.0,>=2.0.2 in /usr/local/lib/python3.11/dist-packages (from openforis-whisp) (2.1.1)\n",
            "Requirement already satisfied: pyogrio>=0.7.2 in /usr/local/lib/python3.11/dist-packages (from geopandas<2.0.0,>=1.0.1->openforis-whisp) (0.11.0)\n",
            "Requirement already satisfied: packaging in /usr/local/lib/python3.11/dist-packages (from geopandas<2.0.0,>=1.0.1->openforis-whisp) (25.0)\n",
            "Requirement already satisfied: pyproj>=3.5.0 in /usr/local/lib/python3.11/dist-packages (from geopandas<2.0.0,>=1.0.1->openforis-whisp) (3.7.1)\n",
            "Requirement already satisfied: debugpy>=1.0 in /usr/local/lib/python3.11/dist-packages (from ipykernel<7.0.0,>=6.17.1->openforis-whisp) (1.8.15)\n",
            "Requirement already satisfied: ipython>=7.23.1 in /usr/local/lib/python3.11/dist-packages (from ipykernel<7.0.0,>=6.17.1->openforis-whisp) (7.34.0)\n",
            "Requirement already satisfied: jupyter-client>=6.1.12 in /usr/local/lib/python3.11/dist-packages (from ipykernel<7.0.0,>=6.17.1->openforis-whisp) (6.1.12)\n",
            "Requirement already satisfied: matplotlib-inline>=0.1 in /usr/local/lib/python3.11/dist-packages (from ipykernel<7.0.0,>=6.17.1->openforis-whisp) (0.1.7)\n",
            "Requirement already satisfied: nest-asyncio in /usr/local/lib/python3.11/dist-packages (from ipykernel<7.0.0,>=6.17.1->openforis-whisp) (1.6.0)\n",
            "Requirement already satisfied: psutil in /usr/local/lib/python3.11/dist-packages (from ipykernel<7.0.0,>=6.17.1->openforis-whisp) (5.9.5)\n",
            "Requirement already satisfied: pyzmq>=17 in /usr/local/lib/python3.11/dist-packages (from ipykernel<7.0.0,>=6.17.1->openforis-whisp) (26.2.1)\n",
            "Requirement already satisfied: tornado>=6.1 in /usr/local/lib/python3.11/dist-packages (from ipykernel<7.0.0,>=6.17.1->openforis-whisp) (6.4.2)\n",
            "Requirement already satisfied: traitlets>=5.1.0 in /usr/local/lib/python3.11/dist-packages (from ipykernel<7.0.0,>=6.17.1->openforis-whisp) (5.7.1)\n",
            "Requirement already satisfied: python-dateutil>=2.8.2 in /usr/local/lib/python3.11/dist-packages (from pandas<3.0.0,>=1.3.0->openforis-whisp) (2.9.0.post0)\n",
            "Requirement already satisfied: pytz>=2020.1 in /usr/local/lib/python3.11/dist-packages (from pandas<3.0.0,>=1.3.0->openforis-whisp) (2025.2)\n",
            "Requirement already satisfied: tzdata>=2022.7 in /usr/local/lib/python3.11/dist-packages (from pandas<3.0.0,>=1.3.0->openforis-whisp) (2025.2)\n",
            "Requirement already satisfied: pydantic in /usr/local/lib/python3.11/dist-packages (from pandera<1.0.0,>=0.22.1->pandera[io]<1.0.0,>=0.22.1->openforis-whisp) (2.11.7)\n",
            "Requirement already satisfied: typeguard in /usr/local/lib/python3.11/dist-packages (from pandera<1.0.0,>=0.22.1->pandera[io]<1.0.0,>=0.22.1->openforis-whisp) (4.4.4)\n",
            "Requirement already satisfied: typing_extensions in /usr/local/lib/python3.11/dist-packages (from pandera<1.0.0,>=0.22.1->pandera[io]<1.0.0,>=0.22.1->openforis-whisp) (4.14.1)\n",
            "Collecting typing_inspect>=0.6.0 (from pandera<1.0.0,>=0.22.1->pandera[io]<1.0.0,>=0.22.1->openforis-whisp)\n",
            "  Downloading typing_inspect-0.9.0-py3-none-any.whl.metadata (1.5 kB)\n",
            "Requirement already satisfied: pyyaml>=5.1 in /usr/local/lib/python3.11/dist-packages (from pandera[io]<1.0.0,>=0.22.1->openforis-whisp) (6.0.2)\n",
            "Collecting black (from pandera[io]<1.0.0,>=0.22.1->openforis-whisp)\n",
            "  Downloading black-25.1.0-cp311-cp311-manylinux_2_17_x86_64.manylinux2014_x86_64.manylinux_2_28_x86_64.whl.metadata (81 kB)\n",
            "\u001b[2K     \u001b[90m━━━━━━━━━━━━━━━━━━━━━━━━━━━━━━━━━━━━━━━━\u001b[0m \u001b[32m81.3/81.3 kB\u001b[0m \u001b[31m5.5 MB/s\u001b[0m eta \u001b[36m0:00:00\u001b[0m\n",
            "\u001b[?25hCollecting frictionless<=4.40.8 (from pandera[io]<1.0.0,>=0.22.1->openforis-whisp)\n",
            "  Downloading frictionless-4.40.8-py2.py3-none-any.whl.metadata (7.1 kB)\n",
            "Requirement already satisfied: pyasn1>=0.1.3 in /usr/local/lib/python3.11/dist-packages (from rsa<5.0.0,>=4.2->openforis-whisp) (0.6.1)\n",
            "Requirement already satisfied: google-cloud-storage in /usr/local/lib/python3.11/dist-packages (from earthengine-api->openforis-whisp) (2.19.0)\n",
            "Requirement already satisfied: google-api-python-client>=1.12.1 in /usr/local/lib/python3.11/dist-packages (from earthengine-api->openforis-whisp) (2.177.0)\n",
            "Requirement already satisfied: google-auth>=1.4.1 in /usr/local/lib/python3.11/dist-packages (from earthengine-api->openforis-whisp) (2.38.0)\n",
            "Requirement already satisfied: google-auth-httplib2>=0.0.3 in /usr/local/lib/python3.11/dist-packages (from earthengine-api->openforis-whisp) (0.2.0)\n",
            "Requirement already satisfied: httplib2<1dev,>=0.9.2 in /usr/local/lib/python3.11/dist-packages (from earthengine-api->openforis-whisp) (0.22.0)\n",
            "Requirement already satisfied: requests in /usr/local/lib/python3.11/dist-packages (from earthengine-api->openforis-whisp) (2.32.3)\n",
            "Collecting petl>=1.6 (from frictionless<=4.40.8->pandera[io]<1.0.0,>=0.22.1->openforis-whisp)\n",
            "  Downloading petl-1.7.17-py3-none-any.whl.metadata (3.3 kB)\n",
            "Collecting marko>=1.0 (from frictionless<=4.40.8->pandera[io]<1.0.0,>=0.22.1->openforis-whisp)\n",
            "  Downloading marko-2.1.4-py3-none-any.whl.metadata (4.5 kB)\n",
            "Collecting isodate>=0.6 (from frictionless<=4.40.8->pandera[io]<1.0.0,>=0.22.1->openforis-whisp)\n",
            "  Downloading isodate-0.7.2-py3-none-any.whl.metadata (11 kB)\n",
            "Collecting rfc3986>=1.4 (from frictionless<=4.40.8->pandera[io]<1.0.0,>=0.22.1->openforis-whisp)\n",
            "  Downloading rfc3986-2.0.0-py2.py3-none-any.whl.metadata (6.6 kB)\n",
            "Requirement already satisfied: chardet>=3.0 in /usr/local/lib/python3.11/dist-packages (from frictionless<=4.40.8->pandera[io]<1.0.0,>=0.22.1->openforis-whisp) (5.2.0)\n",
            "Requirement already satisfied: jsonschema>=2.5 in /usr/local/lib/python3.11/dist-packages (from frictionless<=4.40.8->pandera[io]<1.0.0,>=0.22.1->openforis-whisp) (4.25.0)\n",
            "Collecting simpleeval>=0.9.11 (from frictionless<=4.40.8->pandera[io]<1.0.0,>=0.22.1->openforis-whisp)\n",
            "  Downloading simpleeval-1.0.3-py3-none-any.whl.metadata (17 kB)\n",
            "Collecting stringcase>=1.2 (from frictionless<=4.40.8->pandera[io]<1.0.0,>=0.22.1->openforis-whisp)\n",
            "  Downloading stringcase-1.2.0.tar.gz (3.0 kB)\n",
            "  Preparing metadata (setup.py) ... \u001b[?25l\u001b[?25hdone\n",
            "Requirement already satisfied: typer>=0.5 in /usr/local/lib/python3.11/dist-packages (from typer[all]>=0.5->frictionless<=4.40.8->pandera[io]<1.0.0,>=0.22.1->openforis-whisp) (0.16.0)\n",
            "Collecting validators>=0.18 (from frictionless<=4.40.8->pandera[io]<1.0.0,>=0.22.1->openforis-whisp)\n",
            "  Downloading validators-0.35.0-py3-none-any.whl.metadata (3.9 kB)\n",
            "Requirement already satisfied: python-slugify>=1.2 in /usr/local/lib/python3.11/dist-packages (from frictionless<=4.40.8->pandera[io]<1.0.0,>=0.22.1->openforis-whisp) (8.0.4)\n",
            "Requirement already satisfied: tabulate>=0.8.10 in /usr/local/lib/python3.11/dist-packages (from frictionless<=4.40.8->pandera[io]<1.0.0,>=0.22.1->openforis-whisp) (0.9.0)\n",
            "Requirement already satisfied: jinja2>=3.0.3 in /usr/local/lib/python3.11/dist-packages (from frictionless<=4.40.8->pandera[io]<1.0.0,>=0.22.1->openforis-whisp) (3.1.6)\n",
            "Requirement already satisfied: google-api-core!=2.0.*,!=2.1.*,!=2.2.*,!=2.3.0,<3.0.0,>=1.31.5 in /usr/local/lib/python3.11/dist-packages (from google-api-python-client>=1.12.1->earthengine-api->openforis-whisp) (2.25.1)\n",
            "Requirement already satisfied: uritemplate<5,>=3.0.1 in /usr/local/lib/python3.11/dist-packages (from google-api-python-client>=1.12.1->earthengine-api->openforis-whisp) (4.2.0)\n",
            "Requirement already satisfied: cachetools<6.0,>=2.0.0 in /usr/local/lib/python3.11/dist-packages (from google-auth>=1.4.1->earthengine-api->openforis-whisp) (5.5.2)\n",
            "Requirement already satisfied: pyasn1-modules>=0.2.1 in /usr/local/lib/python3.11/dist-packages (from google-auth>=1.4.1->earthengine-api->openforis-whisp) (0.4.2)\n",
            "Requirement already satisfied: pyparsing!=3.0.0,!=3.0.1,!=3.0.2,!=3.0.3,<4,>=2.4.2 in /usr/local/lib/python3.11/dist-packages (from httplib2<1dev,>=0.9.2->earthengine-api->openforis-whisp) (3.2.3)\n",
            "Requirement already satisfied: setuptools>=18.5 in /usr/local/lib/python3.11/dist-packages (from ipython>=7.23.1->ipykernel<7.0.0,>=6.17.1->openforis-whisp) (75.2.0)\n",
            "Collecting jedi>=0.16 (from ipython>=7.23.1->ipykernel<7.0.0,>=6.17.1->openforis-whisp)\n",
            "  Downloading jedi-0.19.2-py2.py3-none-any.whl.metadata (22 kB)\n",
            "Requirement already satisfied: decorator in /usr/local/lib/python3.11/dist-packages (from ipython>=7.23.1->ipykernel<7.0.0,>=6.17.1->openforis-whisp) (4.4.2)\n",
            "Requirement already satisfied: pickleshare in /usr/local/lib/python3.11/dist-packages (from ipython>=7.23.1->ipykernel<7.0.0,>=6.17.1->openforis-whisp) (0.7.5)\n",
            "Requirement already satisfied: prompt-toolkit!=3.0.0,!=3.0.1,<3.1.0,>=2.0.0 in /usr/local/lib/python3.11/dist-packages (from ipython>=7.23.1->ipykernel<7.0.0,>=6.17.1->openforis-whisp) (3.0.51)\n",
            "Requirement already satisfied: pygments in /usr/local/lib/python3.11/dist-packages (from ipython>=7.23.1->ipykernel<7.0.0,>=6.17.1->openforis-whisp) (2.19.2)\n",
            "Requirement already satisfied: backcall in /usr/local/lib/python3.11/dist-packages (from ipython>=7.23.1->ipykernel<7.0.0,>=6.17.1->openforis-whisp) (0.2.0)\n",
            "Requirement already satisfied: pexpect>4.3 in /usr/local/lib/python3.11/dist-packages (from ipython>=7.23.1->ipykernel<7.0.0,>=6.17.1->openforis-whisp) (4.9.0)\n",
            "Requirement already satisfied: jupyter-core>=4.6.0 in /usr/local/lib/python3.11/dist-packages (from jupyter-client>=6.1.12->ipykernel<7.0.0,>=6.17.1->openforis-whisp) (5.8.1)\n",
            "Requirement already satisfied: certifi in /usr/local/lib/python3.11/dist-packages (from pyogrio>=0.7.2->geopandas<2.0.0,>=1.0.1->openforis-whisp) (2025.7.14)\n",
            "Requirement already satisfied: six>=1.5 in /usr/local/lib/python3.11/dist-packages (from python-dateutil>=2.8.2->pandas<3.0.0,>=1.3.0->openforis-whisp) (1.17.0)\n",
            "Requirement already satisfied: charset-normalizer<4,>=2 in /usr/local/lib/python3.11/dist-packages (from requests->earthengine-api->openforis-whisp) (3.4.2)\n",
            "Requirement already satisfied: idna<4,>=2.5 in /usr/local/lib/python3.11/dist-packages (from requests->earthengine-api->openforis-whisp) (3.10)\n",
            "Requirement already satisfied: urllib3<3,>=1.21.1 in /usr/local/lib/python3.11/dist-packages (from requests->earthengine-api->openforis-whisp) (2.5.0)\n",
            "Collecting mypy-extensions>=0.3.0 (from typing_inspect>=0.6.0->pandera<1.0.0,>=0.22.1->pandera[io]<1.0.0,>=0.22.1->openforis-whisp)\n",
            "  Downloading mypy_extensions-1.1.0-py3-none-any.whl.metadata (1.1 kB)\n",
            "Requirement already satisfied: click>=8.0.0 in /usr/local/lib/python3.11/dist-packages (from black->pandera[io]<1.0.0,>=0.22.1->openforis-whisp) (8.2.1)\n",
            "Collecting pathspec>=0.9.0 (from black->pandera[io]<1.0.0,>=0.22.1->openforis-whisp)\n",
            "  Downloading pathspec-0.12.1-py3-none-any.whl.metadata (21 kB)\n",
            "Requirement already satisfied: platformdirs>=2 in /usr/local/lib/python3.11/dist-packages (from black->pandera[io]<1.0.0,>=0.22.1->openforis-whisp) (4.3.8)\n",
            "Requirement already satisfied: google-cloud-core<3.0dev,>=2.3.0 in /usr/local/lib/python3.11/dist-packages (from google-cloud-storage->earthengine-api->openforis-whisp) (2.4.3)\n",
            "Requirement already satisfied: google-resumable-media>=2.7.2 in /usr/local/lib/python3.11/dist-packages (from google-cloud-storage->earthengine-api->openforis-whisp) (2.7.2)\n",
            "Requirement already satisfied: google-crc32c<2.0dev,>=1.0 in /usr/local/lib/python3.11/dist-packages (from google-cloud-storage->earthengine-api->openforis-whisp) (1.7.1)\n",
            "Requirement already satisfied: annotated-types>=0.6.0 in /usr/local/lib/python3.11/dist-packages (from pydantic->pandera<1.0.0,>=0.22.1->pandera[io]<1.0.0,>=0.22.1->openforis-whisp) (0.7.0)\n",
            "Requirement already satisfied: typing-inspection>=0.4.0 in /usr/local/lib/python3.11/dist-packages (from pydantic->pandera<1.0.0,>=0.22.1->pandera[io]<1.0.0,>=0.22.1->openforis-whisp) (0.4.1)\n",
            "Requirement already satisfied: googleapis-common-protos<2.0.0,>=1.56.2 in /usr/local/lib/python3.11/dist-packages (from google-api-core!=2.0.*,!=2.1.*,!=2.2.*,!=2.3.0,<3.0.0,>=1.31.5->google-api-python-client>=1.12.1->earthengine-api->openforis-whisp) (1.70.0)\n",
            "Requirement already satisfied: protobuf!=3.20.0,!=3.20.1,!=4.21.0,!=4.21.1,!=4.21.2,!=4.21.3,!=4.21.4,!=4.21.5,<7.0.0,>=3.19.5 in /usr/local/lib/python3.11/dist-packages (from google-api-core!=2.0.*,!=2.1.*,!=2.2.*,!=2.3.0,<3.0.0,>=1.31.5->google-api-python-client>=1.12.1->earthengine-api->openforis-whisp) (5.29.5)\n",
            "Requirement already satisfied: proto-plus<2.0.0,>=1.22.3 in /usr/local/lib/python3.11/dist-packages (from google-api-core!=2.0.*,!=2.1.*,!=2.2.*,!=2.3.0,<3.0.0,>=1.31.5->google-api-python-client>=1.12.1->earthengine-api->openforis-whisp) (1.26.1)\n",
            "Requirement already satisfied: parso<0.9.0,>=0.8.4 in /usr/local/lib/python3.11/dist-packages (from jedi>=0.16->ipython>=7.23.1->ipykernel<7.0.0,>=6.17.1->openforis-whisp) (0.8.4)\n",
            "Requirement already satisfied: MarkupSafe>=2.0 in /usr/local/lib/python3.11/dist-packages (from jinja2>=3.0.3->frictionless<=4.40.8->pandera[io]<1.0.0,>=0.22.1->openforis-whisp) (3.0.2)\n",
            "Requirement already satisfied: attrs>=22.2.0 in /usr/local/lib/python3.11/dist-packages (from jsonschema>=2.5->frictionless<=4.40.8->pandera[io]<1.0.0,>=0.22.1->openforis-whisp) (25.3.0)\n",
            "Requirement already satisfied: jsonschema-specifications>=2023.03.6 in /usr/local/lib/python3.11/dist-packages (from jsonschema>=2.5->frictionless<=4.40.8->pandera[io]<1.0.0,>=0.22.1->openforis-whisp) (2025.4.1)\n",
            "Requirement already satisfied: referencing>=0.28.4 in /usr/local/lib/python3.11/dist-packages (from jsonschema>=2.5->frictionless<=4.40.8->pandera[io]<1.0.0,>=0.22.1->openforis-whisp) (0.36.2)\n",
            "Requirement already satisfied: rpds-py>=0.7.1 in /usr/local/lib/python3.11/dist-packages (from jsonschema>=2.5->frictionless<=4.40.8->pandera[io]<1.0.0,>=0.22.1->openforis-whisp) (0.26.0)\n",
            "Requirement already satisfied: ptyprocess>=0.5 in /usr/local/lib/python3.11/dist-packages (from pexpect>4.3->ipython>=7.23.1->ipykernel<7.0.0,>=6.17.1->openforis-whisp) (0.7.0)\n",
            "Requirement already satisfied: wcwidth in /usr/local/lib/python3.11/dist-packages (from prompt-toolkit!=3.0.0,!=3.0.1,<3.1.0,>=2.0.0->ipython>=7.23.1->ipykernel<7.0.0,>=6.17.1->openforis-whisp) (0.2.13)\n",
            "Requirement already satisfied: text-unidecode>=1.3 in /usr/local/lib/python3.11/dist-packages (from python-slugify>=1.2->frictionless<=4.40.8->pandera[io]<1.0.0,>=0.22.1->openforis-whisp) (1.3)\n",
            "Requirement already satisfied: shellingham>=1.3.0 in /usr/local/lib/python3.11/dist-packages (from typer>=0.5->typer[all]>=0.5->frictionless<=4.40.8->pandera[io]<1.0.0,>=0.22.1->openforis-whisp) (1.5.4)\n",
            "Requirement already satisfied: rich>=10.11.0 in /usr/local/lib/python3.11/dist-packages (from typer>=0.5->typer[all]>=0.5->frictionless<=4.40.8->pandera[io]<1.0.0,>=0.22.1->openforis-whisp) (13.9.4)\n",
            "\u001b[33mWARNING: typer 0.16.0 does not provide the extra 'all'\u001b[0m\u001b[33m\n",
            "\u001b[0mRequirement already satisfied: markdown-it-py>=2.2.0 in /usr/local/lib/python3.11/dist-packages (from rich>=10.11.0->typer>=0.5->typer[all]>=0.5->frictionless<=4.40.8->pandera[io]<1.0.0,>=0.22.1->openforis-whisp) (3.0.0)\n",
            "Requirement already satisfied: mdurl~=0.1 in /usr/local/lib/python3.11/dist-packages (from markdown-it-py>=2.2.0->rich>=10.11.0->typer>=0.5->typer[all]>=0.5->frictionless<=4.40.8->pandera[io]<1.0.0,>=0.22.1->openforis-whisp) (0.1.2)\n",
            "Downloading openforis_whisp-2.0.0a5-py3-none-any.whl (50 kB)\n",
            "\u001b[2K   \u001b[90m━━━━━━━━━━━━━━━━━━━━━━━━━━━━━━━━━━━━━━━━\u001b[0m \u001b[32m50.3/50.3 kB\u001b[0m \u001b[31m2.3 MB/s\u001b[0m eta \u001b[36m0:00:00\u001b[0m\n",
            "\u001b[?25hDownloading country_converter-1.3.1-py3-none-any.whl (47 kB)\n",
            "\u001b[2K   \u001b[90m━━━━━━━━━━━━━━━━━━━━━━━━━━━━━━━━━━━━━━━━\u001b[0m \u001b[32m47.3/47.3 kB\u001b[0m \u001b[31m3.7 MB/s\u001b[0m eta \u001b[36m0:00:00\u001b[0m\n",
            "\u001b[?25hDownloading geojson-2.5.0-py2.py3-none-any.whl (14 kB)\n",
            "Downloading pandera-0.25.0-py3-none-any.whl (293 kB)\n",
            "\u001b[2K   \u001b[90m━━━━━━━━━━━━━━━━━━━━━━━━━━━━━━━━━━━━━━━━\u001b[0m \u001b[32m293.3/293.3 kB\u001b[0m \u001b[31m15.5 MB/s\u001b[0m eta \u001b[36m0:00:00\u001b[0m\n",
            "\u001b[?25hDownloading python_dotenv-1.1.1-py3-none-any.whl (20 kB)\n",
            "Downloading frictionless-4.40.8-py2.py3-none-any.whl (419 kB)\n",
            "\u001b[2K   \u001b[90m━━━━━━━━━━━━━━━━━━━━━━━━━━━━━━━━━━━━━━━━\u001b[0m \u001b[32m419.5/419.5 kB\u001b[0m \u001b[31m29.8 MB/s\u001b[0m eta \u001b[36m0:00:00\u001b[0m\n",
            "\u001b[?25hDownloading typing_inspect-0.9.0-py3-none-any.whl (8.8 kB)\n",
            "Downloading black-25.1.0-cp311-cp311-manylinux_2_17_x86_64.manylinux2014_x86_64.manylinux_2_28_x86_64.whl (1.7 MB)\n",
            "\u001b[2K   \u001b[90m━━━━━━━━━━━━━━━━━━━━━━━━━━━━━━━━━━━━━━━━\u001b[0m \u001b[32m1.7/1.7 MB\u001b[0m \u001b[31m71.1 MB/s\u001b[0m eta \u001b[36m0:00:00\u001b[0m\n",
            "\u001b[?25hDownloading isodate-0.7.2-py3-none-any.whl (22 kB)\n",
            "Downloading jedi-0.19.2-py2.py3-none-any.whl (1.6 MB)\n",
            "\u001b[2K   \u001b[90m━━━━━━━━━━━━━━━━━━━━━━━━━━━━━━━━━━━━━━━━\u001b[0m \u001b[32m1.6/1.6 MB\u001b[0m \u001b[31m71.7 MB/s\u001b[0m eta \u001b[36m0:00:00\u001b[0m\n",
            "\u001b[?25hDownloading marko-2.1.4-py3-none-any.whl (42 kB)\n",
            "\u001b[2K   \u001b[90m━━━━━━━━━━━━━━━━━━━━━━━━━━━━━━━━━━━━━━━━\u001b[0m \u001b[32m42.2/42.2 kB\u001b[0m \u001b[31m3.4 MB/s\u001b[0m eta \u001b[36m0:00:00\u001b[0m\n",
            "\u001b[?25hDownloading mypy_extensions-1.1.0-py3-none-any.whl (5.0 kB)\n",
            "Downloading pathspec-0.12.1-py3-none-any.whl (31 kB)\n",
            "Downloading petl-1.7.17-py3-none-any.whl (233 kB)\n",
            "\u001b[2K   \u001b[90m━━━━━━━━━━━━━━━━━━━━━━━━━━━━━━━━━━━━━━━━\u001b[0m \u001b[32m233.1/233.1 kB\u001b[0m \u001b[31m17.4 MB/s\u001b[0m eta \u001b[36m0:00:00\u001b[0m\n",
            "\u001b[?25hDownloading rfc3986-2.0.0-py2.py3-none-any.whl (31 kB)\n",
            "Downloading simpleeval-1.0.3-py3-none-any.whl (15 kB)\n",
            "Downloading validators-0.35.0-py3-none-any.whl (44 kB)\n",
            "\u001b[2K   \u001b[90m━━━━━━━━━━━━━━━━━━━━━━━━━━━━━━━━━━━━━━━━\u001b[0m \u001b[32m44.7/44.7 kB\u001b[0m \u001b[31m3.3 MB/s\u001b[0m eta \u001b[36m0:00:00\u001b[0m\n",
            "\u001b[?25hBuilding wheels for collected packages: stringcase\n",
            "  Building wheel for stringcase (setup.py) ... \u001b[?25l\u001b[?25hdone\n",
            "  Created wheel for stringcase: filename=stringcase-1.2.0-py3-none-any.whl size=3567 sha256=d56e57b62f4ebc3d82dc7dae739c3ce11142091580d2cd13c61e1ed0b236cea3\n",
            "  Stored in directory: /root/.cache/pip/wheels/b4/33/6d/d0820be98063da218c3206fbad2381cd2db3fbb1a0f0d254b5\n",
            "Successfully built stringcase\n",
            "Installing collected packages: stringcase, geojson, validators, simpleeval, rfc3986, python-dotenv, petl, pathspec, mypy-extensions, marko, jedi, isodate, typing_inspect, black, pandera, country_converter, frictionless, openforis-whisp\n",
            "Successfully installed black-25.1.0 country_converter-1.3.1 frictionless-4.40.8 geojson-2.5.0 isodate-0.7.2 jedi-0.19.2 marko-2.1.4 mypy-extensions-1.1.0 openforis-whisp-2.0.0a5 pandera-0.25.0 pathspec-0.12.1 petl-1.7.17 python-dotenv-1.1.1 rfc3986-2.0.0 simpleeval-1.0.3 stringcase-1.2.0 typing_inspect-0.9.0 validators-0.35.0\n"
          ]
        }
      ],
      "source": [
        "# Install openforis-whisp (if not already installed)\n",
        "!pip install --pre openforis-whisp"
      ]
    },
    {
      "cell_type": "code",
      "execution_count": null,
      "id": "dpqChUraHNrz",
      "metadata": {
        "id": "dpqChUraHNrz"
      },
      "outputs": [],
      "source": [
        "import openforis_whisp as whisp"
      ]
    },
    {
      "cell_type": "markdown",
      "id": "a66d9f78",
      "metadata": {
        "id": "a66d9f78"
      },
      "source": [
        "### Get a geojson\n",
        "\n",
        "- Files are stored tempoarily and can be viewed in a panel on the left (click on Folder icon to view).\n",
        "- Press refresh if updates are not showing\n",
        "- Alternatively you can work with files in your Google Drive: drive.mount('/content/drive')"
      ]
    },
    {
      "cell_type": "code",
      "execution_count": null,
      "id": "FVIRYa3Ww1nd",
      "metadata": {
        "id": "FVIRYa3Ww1nd"
      },
      "outputs": [],
      "source": [
        "#function to upload a geojson file. Download example here: https://github.com/andyarnell/whisp/tree/package-test-new-structure/tests/fixtures)\n",
        "def import_geojson():\n",
        "    from google.colab import files\n",
        "    fn, content = next(iter(files.upload().items()))\n",
        "    with open(f'/content/{fn}', 'wb') as f: f.write(content)\n",
        "    return f'/content/{fn}'"
      ]
    },
    {
      "cell_type": "code",
      "execution_count": null,
      "id": "9vrME1ZUp_g9",
      "metadata": {
        "id": "9vrME1ZUp_g9"
      },
      "outputs": [],
      "source": [
        "GEOJSON_EXAMPLE_FILEPATH = import_geojson()\n",
        "print(f\"GEOJSON_EXAMPLE_FILEPATH: {GEOJSON_EXAMPLE_FILEPATH}\")"
      ]
    },
    {
      "cell_type": "markdown",
      "id": "4fce13c5",
      "metadata": {
        "id": "4fce13c5"
      },
      "source": [
        "### Whisp it"
      ]
    },
    {
      "cell_type": "code",
      "execution_count": null,
      "id": "2ec19352",
      "metadata": {
        "id": "2ec19352"
      },
      "outputs": [],
      "source": [
        "# Choose countries to process (currently three countries: 'co', 'ci', 'br')\n",
        "iso2_codes_list = ['co', 'ci', 'br']  # Example ISO2 codes for including country specific data"
      ]
    },
    {
      "cell_type": "code",
      "execution_count": null,
      "id": "c56f5fc1",
      "metadata": {
        "id": "c56f5fc1"
      },
      "outputs": [],
      "source": [
        "df_stats = whisp.whisp_formatted_stats_geojson_to_df(\n",
        "    input_geojson_filepath=GEOJSON_EXAMPLE_FILEPATH,\n",
        "    # external_id_column=\"user_id\",# optional - specify which input column/property to map to the external ID.\n",
        "    national_codes=iso2_codes_list,\n",
        "    # unit_type='percent', # optional - to change unit type. Default is 'ha'.\n",
        "    )"
      ]
    },
    {
      "cell_type": "markdown",
      "id": "c24ce34d",
      "metadata": {
        "id": "c24ce34d"
      },
      "source": [
        "### Display results"
      ]
    },
    {
      "cell_type": "code",
      "execution_count": null,
      "id": "65ad5bf4",
      "metadata": {
        "id": "65ad5bf4"
      },
      "outputs": [],
      "source": [
        "df_stats"
      ]
    },
    {
      "cell_type": "markdown",
      "id": "5c2ecbf7-d86f-425c-9c93-80ce21f3dff2",
      "metadata": {
        "id": "5c2ecbf7-d86f-425c-9c93-80ce21f3dff2"
      },
      "source": [
        "### Add risk category columns"
      ]
    },
    {
      "cell_type": "code",
      "execution_count": null,
      "id": "f4cd1b5c-41ac-4d3c-af26-a47db3d48af8",
      "metadata": {
        "id": "f4cd1b5c-41ac-4d3c-af26-a47db3d48af8"
      },
      "outputs": [],
      "source": [
        "# adds risk columns to end of dataframe\n",
        "df_w_risk = whisp.whisp_risk(df=df_stats,national_codes=iso2_codes_list)"
      ]
    },
    {
      "cell_type": "markdown",
      "id": "5a15577b-44bb-4792-98ef-95fd6bc1aabb",
      "metadata": {
        "id": "5a15577b-44bb-4792-98ef-95fd6bc1aabb"
      },
      "source": [
        "### Display updated table\n",
        "- Scroll to far right to see additions"
      ]
    },
    {
      "cell_type": "code",
      "execution_count": null,
      "id": "0c62b10e-7484-47cd-9f73-40f612be5407",
      "metadata": {
        "id": "0c62b10e-7484-47cd-9f73-40f612be5407"
      },
      "outputs": [],
      "source": [
        "df_w_risk"
      ]
    },
    {
      "cell_type": "markdown",
      "id": "094c0019-585e-4598-8c54-c628625f5f80",
      "metadata": {
        "id": "094c0019-585e-4598-8c54-c628625f5f80"
      },
      "source": [
        "### Export table with risk columns to CSV (temporary storage)"
      ]
    },
    {
      "cell_type": "code",
      "execution_count": null,
      "id": "afa539dd-bb4c-44f7-922f-79e2644631a5",
      "metadata": {
        "id": "afa539dd-bb4c-44f7-922f-79e2644631a5"
      },
      "outputs": [],
      "source": [
        "df_w_risk.to_csv(\"whisp_output_table_w_risk.csv\",index=False)"
      ]
    },
    {
      "cell_type": "markdown",
      "id": "YJKgzHx7poGm",
      "metadata": {
        "id": "YJKgzHx7poGm"
      },
      "source": [
        "### Export table with risk columns to geojson (temporary storage)"
      ]
    },
    {
      "cell_type": "code",
      "execution_count": null,
      "id": "_YcjBdh0p3fK",
      "metadata": {
        "id": "_YcjBdh0p3fK"
      },
      "outputs": [],
      "source": [
        "whisp.convert_df_to_geojson(df_w_risk,\"whisp_output_table_w_risk.geojson\") # builds a geojson file containing Whisp columns. Uses the geometry column \"geo\" to create the spatial features."
      ]
    },
    {
      "cell_type": "markdown",
      "id": "XC9z8vJ0zBK8",
      "metadata": {
        "id": "XC9z8vJ0zBK8"
      },
      "source": [
        "### Download outputs to local storage\n",
        "- Saves files in \"Downloads\" folder on your machine\n",
        "- If you see a \"Downloads blocked\" button at top of browser click to allow file downloads.\n",
        "- Alternatively right click on file in the folder (in the panel on your left) and choose 'Download'."
      ]
    },
    {
      "cell_type": "code",
      "execution_count": null,
      "id": "DCXudVkzy8RB",
      "metadata": {
        "id": "DCXudVkzy8RB"
      },
      "outputs": [],
      "source": [
        "from google.colab import files\n",
        "files.download('whisp_output_table_w_risk.csv')"
      ]
    },
    {
      "cell_type": "code",
      "execution_count": null,
      "id": "oD20mXuD_A-j",
      "metadata": {
        "id": "oD20mXuD_A-j"
      },
      "outputs": [],
      "source": [
        "files.download('whisp_output_table_w_risk.geojson') # spatial output"
      ]
    },
    {
      "cell_type": "code",
      "execution_count": null,
      "id": "aNNI8KaHrEK3",
      "metadata": {
        "id": "aNNI8KaHrEK3"
      },
      "outputs": [],
      "source": []
    }
  ],
  "metadata": {
    "colab": {
      "provenance": []
    },
    "kernelspec": {
      "display_name": ".venv (3.12.0)",
      "language": "python",
      "name": "python3"
    },
    "language_info": {
      "codemirror_mode": {
        "name": "ipython",
        "version": 3
      },
      "file_extension": ".py",
      "mimetype": "text/x-python",
      "name": "python",
      "nbconvert_exporter": "python",
      "pygments_lexer": "ipython3",
      "version": "3.12.0"
    }
  },
  "nbformat": 4,
  "nbformat_minor": 5
}